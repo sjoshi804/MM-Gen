{
 "cells": [
  {
   "cell_type": "code",
   "execution_count": 1,
   "metadata": {},
   "outputs": [],
   "source": [
    "import json \n",
    "\n",
    "with open(\"/home/sjoshi/mm_instruct/task_files/chartqa_gen_task_desc_2024_09_18_07:50:34.json\") as f:\n",
    "    task_desc = json.load(f)\n"
   ]
  },
  {
   "cell_type": "code",
   "execution_count": 3,
   "metadata": {},
   "outputs": [
    {
     "name": "stdout",
     "output_type": "stream",
     "text": [
      "28299\n"
     ]
    }
   ],
   "source": [
    "total = 0\n",
    "for subgroup in task_desc[\"subgroups\"]:\n",
    "    total += len(subgroup[\"candidate_image_paths\"])\n",
    "print(total)"
   ]
  },
  {
   "cell_type": "code",
   "execution_count": 17,
   "metadata": {},
   "outputs": [
    {
     "name": "stdout",
     "output_type": "stream",
     "text": [
      "9431\n"
     ]
    }
   ],
   "source": [
    "import random \n",
    "from copy import deepcopy\n",
    "\n",
    "total = 0\n",
    "task_desc_3cap = deepcopy(task_desc)\n",
    "for subgroup in task_desc_3cap[\"subgroups\"]:\n",
    "    subgroup[\"candidate_image_paths\"] = random.sample(subgroup[\"candidate_image_paths\"], int(len(subgroup[\"candidate_image_paths\"])/3))\n",
    "    total += len(subgroup[\"candidate_image_paths\"])\n",
    "print(total)"
   ]
  },
  {
   "cell_type": "code",
   "execution_count": 18,
   "metadata": {},
   "outputs": [],
   "source": [
    "with open(\"/home/sjoshi/mm_instruct/task_files/spatial_map_gen_task_desc_3cap_per_img.json\", \"w\") as f:\n",
    "    json.dump(task_desc_3cap, f, indent=3)"
   ]
  },
  {
   "cell_type": "code",
   "execution_count": 19,
   "metadata": {},
   "outputs": [
    {
     "name": "stdout",
     "output_type": "stream",
     "text": [
      "5659\n"
     ]
    }
   ],
   "source": [
    "import random \n",
    "from copy import deepcopy\n",
    "\n",
    "total = 0\n",
    "task_desc_5cap = deepcopy(task_desc)\n",
    "for subgroup in task_desc_5cap[\"subgroups\"]:\n",
    "    subgroup[\"candidate_image_paths\"] = random.sample(subgroup[\"candidate_image_paths\"], int(len(subgroup[\"candidate_image_paths\"])/5))\n",
    "    total += len(subgroup[\"candidate_image_paths\"])\n",
    "print(total)"
   ]
  },
  {
   "cell_type": "code",
   "execution_count": 25,
   "metadata": {},
   "outputs": [],
   "source": [
    "with open(\"/home/sjoshi/mm_instruct/task_files/chartqa_gen_task_desc_2024_09_18_07:50:34.json\", \"r\") as f:\n",
    "    data = json.load(f)"
   ]
  },
  {
   "cell_type": "code",
   "execution_count": 26,
   "metadata": {},
   "outputs": [
    {
     "name": "stdout",
     "output_type": "stream",
     "text": [
      "1203\n"
     ]
    }
   ],
   "source": [
    "print(len(data[\"subgroups\"][0][\"reference_sample_idx\"]))\n",
    "data[\"subgroups\"][0][\"reference_sample_idx\"] = data[\"subgroups\"][0][\"reference_sample_idx\"][:len(data[\"subgroups\"][1][\"reference_sample_idx\"])]\n",
    "data[\"subgroups\"][0][\"candidate_image_paths\"] = data[\"subgroups\"][0][\"candidate_image_paths\"][:len(data[\"subgroups\"][1][\"candidate_image_paths\"])]"
   ]
  },
  {
   "cell_type": "code",
   "execution_count": 27,
   "metadata": {},
   "outputs": [],
   "source": [
    "with open(\"/home/sjoshi/mm_instruct/task_files/chartqa_gen_task_desc_imbalanced.json\", \"w\") as f:\n",
    "    json.dump(data, f, indent=3)"
   ]
  }
 ],
 "metadata": {
  "kernelspec": {
   "display_name": "mm_instruct",
   "language": "python",
   "name": "python3"
  },
  "language_info": {
   "codemirror_mode": {
    "name": "ipython",
    "version": 3
   },
   "file_extension": ".py",
   "mimetype": "text/x-python",
   "name": "python",
   "nbconvert_exporter": "python",
   "pygments_lexer": "ipython3",
   "version": "3.10.14"
  }
 },
 "nbformat": 4,
 "nbformat_minor": 2
}
